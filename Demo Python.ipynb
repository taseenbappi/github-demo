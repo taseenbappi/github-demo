{
    "cells": [
        {
            "cell_type": "code",
            "execution_count": 1,
            "metadata": {},
            "outputs": [
                {
                    "data": {
                        "text/html": "<div>\n<style scoped>\n    .dataframe tbody tr th:only-of-type {\n        vertical-align: middle;\n    }\n\n    .dataframe tbody tr th {\n        vertical-align: top;\n    }\n\n    .dataframe thead th {\n        text-align: right;\n    }\n</style>\n<table border=\"1\" class=\"dataframe\">\n  <thead>\n    <tr style=\"text-align: right;\">\n      <th></th>\n      <th>Output</th>\n      <th>area_0</th>\n      <th>area_1</th>\n      <th>area_2</th>\n      <th>area_3</th>\n      <th>area_4</th>\n      <th>area_5</th>\n      <th>area_6</th>\n      <th>area_7</th>\n      <th>area_8</th>\n      <th>...</th>\n      <th>area_46</th>\n      <th>area_47</th>\n      <th>area_48</th>\n      <th>area_49</th>\n      <th>area_50</th>\n      <th>area_51</th>\n      <th>area_52</th>\n      <th>area_53</th>\n      <th>area_54</th>\n      <th>area_55</th>\n    </tr>\n  </thead>\n  <tbody>\n    <tr>\n      <th>0</th>\n      <td>corona</td>\n      <td>31.314861</td>\n      <td>0.006386</td>\n      <td>0.015003</td>\n      <td>59.294493</td>\n      <td>3920.054220</td>\n      <td>1.303796</td>\n      <td>2.388982</td>\n      <td>1</td>\n      <td>0.003948</td>\n      <td>...</td>\n      <td>2973.323401</td>\n      <td>79709</td>\n      <td>2.129350</td>\n      <td>198</td>\n      <td>1.225444</td>\n      <td>2.0</td>\n      <td>1</td>\n      <td>197</td>\n      <td>3.749734</td>\n      <td>0.313587</td>\n    </tr>\n    <tr>\n      <th>1</th>\n      <td>corona</td>\n      <td>2.244448</td>\n      <td>0.000993</td>\n      <td>0.021140</td>\n      <td>46.728580</td>\n      <td>2203.841333</td>\n      <td>1.012214</td>\n      <td>2.512759</td>\n      <td>1</td>\n      <td>0.001115</td>\n      <td>...</td>\n      <td>2511.571107</td>\n      <td>29632283</td>\n      <td>2.335277</td>\n      <td>5417</td>\n      <td>5.267691</td>\n      <td>2.0</td>\n      <td>1</td>\n      <td>5416</td>\n      <td>107.524703</td>\n      <td>0.274039</td>\n    </tr>\n    <tr>\n      <th>2</th>\n      <td>corona</td>\n      <td>2.255852</td>\n      <td>0.000997</td>\n      <td>0.021107</td>\n      <td>46.880094</td>\n      <td>2214.827201</td>\n      <td>1.010383</td>\n      <td>2.546456</td>\n      <td>1</td>\n      <td>0.001102</td>\n      <td>...</td>\n      <td>2540.887672</td>\n      <td>29588677</td>\n      <td>2.319757</td>\n      <td>5414</td>\n      <td>5.209780</td>\n      <td>2.0</td>\n      <td>1</td>\n      <td>5413</td>\n      <td>106.863420</td>\n      <td>0.277175</td>\n    </tr>\n    <tr>\n      <th>3</th>\n      <td>corona</td>\n      <td>2.407902</td>\n      <td>0.001002</td>\n      <td>0.020452</td>\n      <td>48.494286</td>\n      <td>2364.959154</td>\n      <td>1.007985</td>\n      <td>2.592819</td>\n      <td>1</td>\n      <td>0.001057</td>\n      <td>...</td>\n      <td>2734.145617</td>\n      <td>25622465</td>\n      <td>2.345190</td>\n      <td>5044</td>\n      <td>4.653639</td>\n      <td>2.0</td>\n      <td>1</td>\n      <td>5043</td>\n      <td>96.107488</td>\n      <td>0.283046</td>\n    </tr>\n    <tr>\n      <th>4</th>\n      <td>corona</td>\n      <td>2.518639</td>\n      <td>0.001014</td>\n      <td>0.020132</td>\n      <td>49.207450</td>\n      <td>2437.738716</td>\n      <td>1.009345</td>\n      <td>2.586261</td>\n      <td>1</td>\n      <td>0.001053</td>\n      <td>...</td>\n      <td>2740.437757</td>\n      <td>23360001</td>\n      <td>2.394570</td>\n      <td>4813</td>\n      <td>4.497696</td>\n      <td>2.0</td>\n      <td>1</td>\n      <td>4812</td>\n      <td>91.552023</td>\n      <td>0.269431</td>\n    </tr>\n  </tbody>\n</table>\n<p>5 rows \u00d7 57 columns</p>\n</div>",
                        "text/plain": "   Output     area_0    area_1    area_2     area_3       area_4    area_5  \\\n0  corona  31.314861  0.006386  0.015003  59.294493  3920.054220  1.303796   \n1  corona   2.244448  0.000993  0.021140  46.728580  2203.841333  1.012214   \n2  corona   2.255852  0.000997  0.021107  46.880094  2214.827201  1.010383   \n3  corona   2.407902  0.001002  0.020452  48.494286  2364.959154  1.007985   \n4  corona   2.518639  0.001014  0.020132  49.207450  2437.738716  1.009345   \n\n     area_6  area_7    area_8  ...      area_46   area_47   area_48  area_49  \\\n0  2.388982       1  0.003948  ...  2973.323401     79709  2.129350      198   \n1  2.512759       1  0.001115  ...  2511.571107  29632283  2.335277     5417   \n2  2.546456       1  0.001102  ...  2540.887672  29588677  2.319757     5414   \n3  2.592819       1  0.001057  ...  2734.145617  25622465  2.345190     5044   \n4  2.586261       1  0.001053  ...  2740.437757  23360001  2.394570     4813   \n\n    area_50  area_51  area_52  area_53     area_54   area_55  \n0  1.225444      2.0        1      197    3.749734  0.313587  \n1  5.267691      2.0        1     5416  107.524703  0.274039  \n2  5.209780      2.0        1     5413  106.863420  0.277175  \n3  4.653639      2.0        1     5043   96.107488  0.283046  \n4  4.497696      2.0        1     4812   91.552023  0.269431  \n\n[5 rows x 57 columns]"
                    },
                    "execution_count": 1,
                    "metadata": {},
                    "output_type": "execute_result"
                }
            ],
            "source": "# The code was removed by Watson Studio for sharing."
        },
        {
            "cell_type": "code",
            "execution_count": null,
            "metadata": {},
            "outputs": [],
            "source": ""
        }
    ],
    "metadata": {
        "kernelspec": {
            "display_name": "Python 3.7",
            "language": "python",
            "name": "python3"
        },
        "language_info": {
            "codemirror_mode": {
                "name": "ipython",
                "version": 3
            },
            "file_extension": ".py",
            "mimetype": "text/x-python",
            "name": "python",
            "nbconvert_exporter": "python",
            "pygments_lexer": "ipython3",
            "version": "3.7.9"
        }
    },
    "nbformat": 4,
    "nbformat_minor": 1
}